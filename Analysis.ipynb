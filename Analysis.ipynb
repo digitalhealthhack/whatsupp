{
 "cells": [
  {
   "cell_type": "code",
   "execution_count": 59,
   "metadata": {
    "collapsed": true
   },
   "outputs": [],
   "source": [
    "import MySQLdb as mdb\n",
    "import pandas as pd\n",
    "import yaml\n",
    "\n",
    "from pprint import pprint"
   ]
  },
  {
   "cell_type": "code",
   "execution_count": 60,
   "metadata": {
    "collapsed": true
   },
   "outputs": [],
   "source": [
    "# Initialise mysql connection from own config file\n",
    "# Example config file is given in config_example.yaml\n",
    "with open('config.yaml', 'r') as f:\n",
    "    config = yaml.load(f)\n",
    "\n",
    "\n",
    "# Define connection\n",
    "con = mdb.connect(config['hostname'], \n",
    "                  config['username'], \n",
    "                  config['password'], \n",
    "                  config['database']\n",
    "                  )"
   ]
  },
  {
   "cell_type": "code",
   "execution_count": 61,
   "metadata": {
    "collapsed": false
   },
   "outputs": [
    {
     "name": "stdout",
     "output_type": "stream",
     "text": [
      "Number of rows: 224\n"
     ]
    }
   ],
   "source": [
    "with con:\n",
    "    \n",
    "    cur = con.cursor()\n",
    "    sql = \"SELECT COUNT(*) FROM supplement411\"\n",
    "    cur.execute(sql)\n",
    "    rows = cur.fetchone()\n",
    "    print \"Number of rows:\",rows[0]"
   ]
  },
  {
   "cell_type": "code",
   "execution_count": 62,
   "metadata": {
    "collapsed": false
   },
   "outputs": [
    {
     "name": "stdout",
     "output_type": "stream",
     "text": [
      "<type 'tuple'>\n",
      "((None, 12L), (2013L, 4L), (2014L, 87L), (2015L, 79L), (2016L, 42L))\n"
     ]
    }
   ],
   "source": [
    "with con:\n",
    "    \n",
    "    cur = con.cursor()\n",
    "    sql = \"\"\"SELECT YEAR(updated) AS update_year, COUNT(DISTINCT id) as num_products\n",
    "            FROM supplement411\n",
    "            GROUP BY update_year\"\"\"\n",
    "    cur.execute(sql)\n",
    "    rows = cur.fetchall()\n",
    "    \n",
    "    print type(rows)\n",
    "    print rows"
   ]
  },
  {
   "cell_type": "code",
   "execution_count": 63,
   "metadata": {
    "collapsed": false
   },
   "outputs": [
    {
     "data": {
      "text/html": [
       "<div>\n",
       "<table border=\"1\" class=\"dataframe\">\n",
       "  <thead>\n",
       "    <tr style=\"text-align: right;\">\n",
       "      <th></th>\n",
       "      <th>0</th>\n",
       "      <th>1</th>\n",
       "    </tr>\n",
       "  </thead>\n",
       "  <tbody>\n",
       "    <tr>\n",
       "      <th>0</th>\n",
       "      <td>nan</td>\n",
       "      <td>12</td>\n",
       "    </tr>\n",
       "    <tr>\n",
       "      <th>1</th>\n",
       "      <td>2,013</td>\n",
       "      <td>4</td>\n",
       "    </tr>\n",
       "    <tr>\n",
       "      <th>2</th>\n",
       "      <td>2,014</td>\n",
       "      <td>87</td>\n",
       "    </tr>\n",
       "    <tr>\n",
       "      <th>3</th>\n",
       "      <td>2,015</td>\n",
       "      <td>79</td>\n",
       "    </tr>\n",
       "    <tr>\n",
       "      <th>4</th>\n",
       "      <td>2,016</td>\n",
       "      <td>42</td>\n",
       "    </tr>\n",
       "  </tbody>\n",
       "</table>\n",
       "</div>"
      ],
      "text/plain": [
       "      0   1\n",
       "0   nan  12\n",
       "1 2,013   4\n",
       "2 2,014  87\n",
       "3 2,015  79\n",
       "4 2,016  42"
      ]
     },
     "execution_count": 63,
     "metadata": {},
     "output_type": "execute_result"
    }
   ],
   "source": [
    "# Count number of entries in the list by year\n",
    "df = None\n",
    "with con:\n",
    "    \n",
    "    cur = con.cursor()\n",
    "    sql = \"\"\"SELECT YEAR(updated) AS update_year, COUNT(DISTINCT id) as num_products\n",
    "            FROM supplement411\n",
    "            GROUP BY update_year\"\"\"\n",
    "    cur.execute(sql)\n",
    "    rows = cur.fetchall()\n",
    "    \n",
    "    row_list = [list(x) for x in rows]\n",
    "    df = pd.DataFrame(row_list)\n",
    "\n",
    "df"
   ]
  },
  {
   "cell_type": "code",
   "execution_count": 64,
   "metadata": {
    "collapsed": false
   },
   "outputs": [
    {
     "name": "stdout",
     "output_type": "stream",
     "text": [
      "((None, None, 12L), (2013L, 'August', 1L), (2013L, 'December', 3L), (2014L, 'April', 13L), (2014L, 'January', 13L), (2014L, 'July', 4L), (2014L, 'March', 21L), (2014L, 'May', 10L), (2014L, 'November', 7L), (2014L, 'October', 19L), (2015L, 'April', 11L), (2015L, 'December', 23L), (2015L, 'February', 1L), (2015L, 'January', 4L), (2015L, 'July', 7L), (2015L, 'June', 10L), (2015L, 'May', 12L), (2015L, 'October', 1L), (2015L, 'September', 10L), (2016L, 'April', 2L), (2016L, 'February', 16L), (2016L, 'March', 4L), (2016L, 'May', 20L))\n"
     ]
    },
    {
     "data": {
      "text/html": [
       "<div>\n",
       "<table border=\"1\" class=\"dataframe\">\n",
       "  <thead>\n",
       "    <tr style=\"text-align: right;\">\n",
       "      <th></th>\n",
       "      <th>Year</th>\n",
       "      <th>Month</th>\n",
       "      <th>Number of entries</th>\n",
       "    </tr>\n",
       "  </thead>\n",
       "  <tbody>\n",
       "    <tr>\n",
       "      <th>0</th>\n",
       "      <td>nan</td>\n",
       "      <td>None</td>\n",
       "      <td>12</td>\n",
       "    </tr>\n",
       "    <tr>\n",
       "      <th>1</th>\n",
       "      <td>2,013</td>\n",
       "      <td>August</td>\n",
       "      <td>1</td>\n",
       "    </tr>\n",
       "    <tr>\n",
       "      <th>2</th>\n",
       "      <td>2,013</td>\n",
       "      <td>December</td>\n",
       "      <td>3</td>\n",
       "    </tr>\n",
       "    <tr>\n",
       "      <th>3</th>\n",
       "      <td>2,014</td>\n",
       "      <td>April</td>\n",
       "      <td>13</td>\n",
       "    </tr>\n",
       "    <tr>\n",
       "      <th>4</th>\n",
       "      <td>2,014</td>\n",
       "      <td>January</td>\n",
       "      <td>13</td>\n",
       "    </tr>\n",
       "    <tr>\n",
       "      <th>5</th>\n",
       "      <td>2,014</td>\n",
       "      <td>July</td>\n",
       "      <td>4</td>\n",
       "    </tr>\n",
       "    <tr>\n",
       "      <th>6</th>\n",
       "      <td>2,014</td>\n",
       "      <td>March</td>\n",
       "      <td>21</td>\n",
       "    </tr>\n",
       "    <tr>\n",
       "      <th>7</th>\n",
       "      <td>2,014</td>\n",
       "      <td>May</td>\n",
       "      <td>10</td>\n",
       "    </tr>\n",
       "    <tr>\n",
       "      <th>8</th>\n",
       "      <td>2,014</td>\n",
       "      <td>November</td>\n",
       "      <td>7</td>\n",
       "    </tr>\n",
       "    <tr>\n",
       "      <th>9</th>\n",
       "      <td>2,014</td>\n",
       "      <td>October</td>\n",
       "      <td>19</td>\n",
       "    </tr>\n",
       "    <tr>\n",
       "      <th>10</th>\n",
       "      <td>2,015</td>\n",
       "      <td>April</td>\n",
       "      <td>11</td>\n",
       "    </tr>\n",
       "    <tr>\n",
       "      <th>11</th>\n",
       "      <td>2,015</td>\n",
       "      <td>December</td>\n",
       "      <td>23</td>\n",
       "    </tr>\n",
       "    <tr>\n",
       "      <th>12</th>\n",
       "      <td>2,015</td>\n",
       "      <td>February</td>\n",
       "      <td>1</td>\n",
       "    </tr>\n",
       "    <tr>\n",
       "      <th>13</th>\n",
       "      <td>2,015</td>\n",
       "      <td>January</td>\n",
       "      <td>4</td>\n",
       "    </tr>\n",
       "    <tr>\n",
       "      <th>14</th>\n",
       "      <td>2,015</td>\n",
       "      <td>July</td>\n",
       "      <td>7</td>\n",
       "    </tr>\n",
       "    <tr>\n",
       "      <th>15</th>\n",
       "      <td>2,015</td>\n",
       "      <td>June</td>\n",
       "      <td>10</td>\n",
       "    </tr>\n",
       "    <tr>\n",
       "      <th>16</th>\n",
       "      <td>2,015</td>\n",
       "      <td>May</td>\n",
       "      <td>12</td>\n",
       "    </tr>\n",
       "    <tr>\n",
       "      <th>17</th>\n",
       "      <td>2,015</td>\n",
       "      <td>October</td>\n",
       "      <td>1</td>\n",
       "    </tr>\n",
       "    <tr>\n",
       "      <th>18</th>\n",
       "      <td>2,015</td>\n",
       "      <td>September</td>\n",
       "      <td>10</td>\n",
       "    </tr>\n",
       "    <tr>\n",
       "      <th>19</th>\n",
       "      <td>2,016</td>\n",
       "      <td>April</td>\n",
       "      <td>2</td>\n",
       "    </tr>\n",
       "    <tr>\n",
       "      <th>20</th>\n",
       "      <td>2,016</td>\n",
       "      <td>February</td>\n",
       "      <td>16</td>\n",
       "    </tr>\n",
       "    <tr>\n",
       "      <th>21</th>\n",
       "      <td>2,016</td>\n",
       "      <td>March</td>\n",
       "      <td>4</td>\n",
       "    </tr>\n",
       "    <tr>\n",
       "      <th>22</th>\n",
       "      <td>2,016</td>\n",
       "      <td>May</td>\n",
       "      <td>20</td>\n",
       "    </tr>\n",
       "  </tbody>\n",
       "</table>\n",
       "</div>"
      ],
      "text/plain": [
       "    Year      Month  Number of entries\n",
       "0    nan       None                 12\n",
       "1  2,013     August                  1\n",
       "2  2,013   December                  3\n",
       "3  2,014      April                 13\n",
       "4  2,014    January                 13\n",
       "5  2,014       July                  4\n",
       "6  2,014      March                 21\n",
       "7  2,014        May                 10\n",
       "8  2,014   November                  7\n",
       "9  2,014    October                 19\n",
       "10 2,015      April                 11\n",
       "11 2,015   December                 23\n",
       "12 2,015   February                  1\n",
       "13 2,015    January                  4\n",
       "14 2,015       July                  7\n",
       "15 2,015       June                 10\n",
       "16 2,015        May                 12\n",
       "17 2,015    October                  1\n",
       "18 2,015  September                 10\n",
       "19 2,016      April                  2\n",
       "20 2,016   February                 16\n",
       "21 2,016      March                  4\n",
       "22 2,016        May                 20"
      ]
     },
     "execution_count": 64,
     "metadata": {},
     "output_type": "execute_result"
    }
   ],
   "source": [
    "# Count number of entries in the list by month/year\n",
    "df = None\n",
    "with con:\n",
    "    \n",
    "    cur = con.cursor()\n",
    "#     sql = \"\"\"SELECT YEAR(updated) AS update_year, MONTH(updated) AS update_month, COUNT(DISTINCT id)\n",
    "    sql = \"\"\"SELECT YEAR(updated) AS update_year, MONTHNAME(updated) AS update_month, COUNT(DISTINCT id)\n",
    "            FROM supplement411\n",
    "            GROUP BY update_year, update_month\"\"\"\n",
    "    cur.execute(sql)\n",
    "    rows = cur.fetchall()\n",
    "    print rows\n",
    "\n",
    "    row_list = [list(x) for x in rows]\n",
    "    df = pd.DataFrame(row_list)\n",
    "    df.columns = ['Year', 'Month', 'Number of entries']\n",
    "\n",
    "df"
   ]
  },
  {
   "cell_type": "code",
   "execution_count": null,
   "metadata": {
    "collapsed": false
   },
   "outputs": [],
   "source": []
  },
  {
   "cell_type": "code",
   "execution_count": null,
   "metadata": {
    "collapsed": false
   },
   "outputs": [],
   "source": []
  },
  {
   "cell_type": "code",
   "execution_count": null,
   "metadata": {
    "collapsed": true
   },
   "outputs": [],
   "source": []
  }
 ],
 "metadata": {
  "kernelspec": {
   "display_name": "Python 2",
   "language": "python",
   "name": "python2"
  },
  "language_info": {
   "codemirror_mode": {
    "name": "ipython",
    "version": 2
   },
   "file_extension": ".py",
   "mimetype": "text/x-python",
   "name": "python",
   "nbconvert_exporter": "python",
   "pygments_lexer": "ipython2",
   "version": "2.7.10"
  }
 },
 "nbformat": 4,
 "nbformat_minor": 0
}
